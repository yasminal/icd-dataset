{
 "cells": [
  {
   "cell_type": "code",
   "execution_count": 1,
   "metadata": {},
   "outputs": [],
   "source": [
    "# Bonus Exercise\n",
    "# This exercise is an extension to Exercise 2. Build a job that output top 5 causes of death for \n",
    "# each gender and age group of all history which updates the result whenever you feed in new data. \n",
    "\n",
    "# Your demo should be like the following. You start the job. After feeding the 2005 data to it, \n",
    "# it outputs the answer to Exercise 2 for the year 2005. Then feed the 2006 data to it, it outputs \n",
    "# the top 5 causes of death for each gender and age group in 2005 and 2006. And so, on"
   ]
  },
  {
   "cell_type": "code",
   "execution_count": 1,
   "metadata": {},
   "outputs": [],
   "source": [
    "import pandas as pd\n",
    "import numpy as np\n",
    "import json"
   ]
  },
  {
   "cell_type": "code",
   "execution_count": 39,
   "metadata": {},
   "outputs": [],
   "source": [
    "def get_top_causes(df, year):\n",
    "    # Load json file with code names into a dataframe\n",
    "    with open('mortality/2015_codes.json') as f: \n",
    "        codes_json = json.load(f)\n",
    "    codes = pd.DataFrame(codes_json)\n",
    "    \n",
    "    # Get human-readable names for causes of death\n",
    "    causes = codes[['39_cause_recode']].dropna().reset_index()\n",
    "    causes['index'] = causes['index'].astype(int)\n",
    "        \n",
    "    # Get human-readable names for age groups\n",
    "    ages = codes[['age_recode_12']].dropna().reset_index()\n",
    "    ages['index'] = ages['index'].astype(int)\n",
    "    \n",
    "    # Match death records to readable cause names and age groups\n",
    "    # Drop redundant columns\n",
    "\n",
    "    deaths_merged = deaths.merge(causes, how='left', left_on='39_cause_recode', right_on='index').drop(['39_cause_recode_x', 'index'], axis=1)\n",
    "    deaths_merged = deaths_merged.merge(ages, how='left', left_on='age_recode_12', right_on='index').drop(['age_recode_12_x', 'index'], axis=1) \n",
    "\n",
    "    # Group death records by gender + by age and sort by count of death causes\n",
    "    # Columns could use some renaming\n",
    "\n",
    "    deaths_by_sex = deaths_merged.groupby(['sex', '39_cause_recode_y', 'year']).count().reset_index().sort_values(['sex', 'age_recode_12_y'], ascending=False)\n",
    "    deaths_by_age = deaths_merged.groupby(['age_recode_12_y', '39_cause_recode_y', 'year']).count().reset_index().sort_values(['age_recode_12_y', 'sex'], ascending=False)\n",
    "    \n",
    "    # Get top 5 causes of death for men\n",
    "    m_deaths = deaths_by_sex[deaths_by_sex['sex'] == 'M'].head(5).drop(['age_recode_12_y'], axis=1)\n",
    "    m_deaths['Variable'] = 'Sex'\n",
    "    m_deaths['Rank'] = m_deaths.reset_index().index + 1\n",
    "    m_deaths.columns = ['Value', 'Top 5 Death Causes', 'Year', 'Variable', 'Rank']\n",
    "\n",
    "    # Get top 5 causes of death for women\n",
    "    f_deaths = deaths_by_sex[deaths_by_sex['sex'] == 'F'].head(5).drop(['age_recode_12_y'], axis=1)\n",
    "    f_deaths['Variable'] = 'Sex'\n",
    "    f_deaths['Rank'] = f_deaths.reset_index().index + 1\n",
    "    f_deaths.columns = ['Value', 'Top 5 Death Causes', 'Year', 'Variable', 'Rank']\n",
    "\n",
    "    output = pd.concat([m_deaths, f_deaths])\n",
    "\n",
    "    # Get top 5 causes of death for all age groups\n",
    "    for index,age in ages.iterrows():\n",
    "        age_deaths = deaths_by_age[deaths_by_age['age_recode_12_y'] == age['age_recode_12']].head(5).drop(['sex'], axis=1)\n",
    "        age_deaths['Variable'] = 'Age group'\n",
    "        age_deaths['Rank'] = age_deaths.reset_index().index + 1\n",
    "        age_deaths.columns = ['Value', 'Top 5 Death Causes', 'Year', 'Variable', 'Rank']\n",
    "        output = pd.concat([output, age_deaths])\n",
    "\n",
    "    output = output.set_index(['Variable', 'Value', 'Top 5 Death Causes', 'Year'])\n",
    "    return output    \n",
    "    \n",
    "    "
   ]
  },
  {
   "cell_type": "code",
   "execution_count": 41,
   "metadata": {},
   "outputs": [
    {
     "name": "stdout",
     "output_type": "stream",
     "text": [
      "2005 to 2005 successful\n",
      "2005 to 2006 successful\n",
      "2005 to 2007 successful\n",
      "2005 to 2008 successful\n",
      "2005 to 2009 successful\n",
      "2005 to 2010 successful\n",
      "2005 to 2011 successful\n",
      "2005 to 2012 successful\n",
      "2005 to 2013 successful\n",
      "2005 to 2014 successful\n",
      "2005 to 2015 successful\n"
     ]
    }
   ],
   "source": [
    "outputs = pd.DataFrame()\n",
    "\n",
    "for year in range(2005, 2016):\n",
    "    deaths = pd.read_csv('mortality/' + str(year) + '_data.csv', usecols=[\"sex\", \"age_recode_12\", \"39_cause_recode\"])\n",
    "    deaths['year'] = year\n",
    "    outputs = pd.concat([outputs, get_top_causes(deaths, year)])\n",
    "    outputs.to_csv('bonus_outputs/output_2005_to_' + str(year) + '.csv')\n",
    "    print('2005 to ' + str(year) + ' successful')"
   ]
  },
  {
   "cell_type": "code",
   "execution_count": null,
   "metadata": {},
   "outputs": [],
   "source": []
  }
 ],
 "metadata": {
  "kernelspec": {
   "display_name": "Python 3",
   "language": "python",
   "name": "python3"
  },
  "language_info": {
   "codemirror_mode": {
    "name": "ipython",
    "version": 3
   },
   "file_extension": ".py",
   "mimetype": "text/x-python",
   "name": "python",
   "nbconvert_exporter": "python",
   "pygments_lexer": "ipython3",
   "version": "3.6.5"
  }
 },
 "nbformat": 4,
 "nbformat_minor": 2
}
