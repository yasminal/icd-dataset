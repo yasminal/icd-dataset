{
 "cells": [
  {
   "cell_type": "code",
   "execution_count": 1,
   "metadata": {},
   "outputs": [],
   "source": [
    "# Exercise 2\n",
    "# Pick a year and for each gender and age group find out the top 5 causes of death. \n",
    "# Your outcome should be a CSV or JSON file which is human readable."
   ]
  },
  {
   "cell_type": "code",
   "execution_count": 2,
   "metadata": {},
   "outputs": [],
   "source": [
    "import pandas as pd\n",
    "import numpy as np\n",
    "import json"
   ]
  },
  {
   "cell_type": "code",
   "execution_count": 3,
   "metadata": {},
   "outputs": [],
   "source": [
    "# Assuming each record is one unique death\n",
    "# Using 39 cause because more descriptive than manner of death\n",
    "deaths_2015 = pd.read_csv('mortality/2015_data.csv', usecols=[\"sex\", \"age_recode_12\", \"39_cause_recode\"]) "
   ]
  },
  {
   "cell_type": "code",
   "execution_count": 4,
   "metadata": {},
   "outputs": [],
   "source": [
    "# Do some data cleaning?"
   ]
  },
  {
   "cell_type": "code",
   "execution_count": 5,
   "metadata": {},
   "outputs": [],
   "source": [
    "# Load json file with code names into a dataframe\n",
    "with open('mortality/2015_codes.json') as f: \n",
    "   codes_2015_json = json.load(f)\n",
    "\n",
    "codes_2015 = pd.DataFrame(codes_2015_json)"
   ]
  },
  {
   "cell_type": "code",
   "execution_count": 6,
   "metadata": {},
   "outputs": [],
   "source": [
    "# Get human-readable names for causes of death\n",
    "causes = codes_2015[['39_cause_recode']].dropna().reset_index()\n",
    "causes['index'] = causes['index'].astype(int)"
   ]
  },
  {
   "cell_type": "code",
   "execution_count": 7,
   "metadata": {},
   "outputs": [],
   "source": [
    "# Get human-readable names for age groups\n",
    "ages = codes_2015[['age_recode_12']].dropna().reset_index()\n",
    "ages['index'] = ages['index'].astype(int)"
   ]
  },
  {
   "cell_type": "code",
   "execution_count": 8,
   "metadata": {},
   "outputs": [],
   "source": [
    "# Match death records to readable cause names and age groups\n",
    "# Drop redundant columns\n",
    "\n",
    "deaths_2015_merged = deaths_2015.merge(causes, how='left', left_on='39_cause_recode', right_on='index').drop(['39_cause_recode_x', 'index'], axis=1)\n",
    "deaths_2015_merged = deaths_2015_merged.merge(ages, how='left', left_on='age_recode_12', right_on='index').drop(['age_recode_12_x', 'index'], axis=1) \n"
   ]
  },
  {
   "cell_type": "code",
   "execution_count": 38,
   "metadata": {},
   "outputs": [],
   "source": [
    "# Group death records by gender + by age and sort by count of death causes\n",
    "# Columns could use some renaming\n",
    "\n",
    "deaths_by_sex = deaths_2015_merged.groupby(['sex', '39_cause_recode_y']).count().reset_index().sort_values(['sex', 'age_recode_12_y'], ascending=False)\n",
    "deaths_by_age = deaths_2015_merged.groupby(['age_recode_12_y', '39_cause_recode_y']).count().reset_index().sort_values(['age_recode_12_y', 'sex'], ascending=False)\n"
   ]
  },
  {
   "cell_type": "code",
   "execution_count": 50,
   "metadata": {},
   "outputs": [],
   "source": [
    "# Get top 5 causes of death for men\n",
    "m_deaths = deaths_by_sex[deaths_by_sex['sex'] == 'M'].head(5).drop(['age_recode_12_y'], axis=1)\n",
    "m_deaths['Variable'] = 'Sex'\n",
    "m_deaths['Rank'] = m_deaths.reset_index().index + 1\n",
    "m_deaths.columns = ['Value', 'Top 5 Death Causes', 'Variable', 'Rank']\n",
    "\n",
    "# Get top 5 causes of death for women\n",
    "f_deaths = deaths_by_sex[deaths_by_sex['sex'] == 'F'].head(5).drop(['age_recode_12_y'], axis=1)\n",
    "f_deaths['Variable'] = 'Sex'\n",
    "f_deaths['Rank'] = f_deaths.reset_index().index + 1\n",
    "f_deaths.columns = ['Value', 'Top 5 Death Causes', 'Variable', 'Rank']\n",
    "\n",
    "output = pd.concat([m_deaths, f_deaths])\n",
    "\n",
    "# Get top 5 causes of death for all age groups\n",
    "for index,age in ages.iterrows():\n",
    "    age_deaths = deaths_by_age[deaths_by_age['age_recode_12_y'] == age['age_recode_12']].head(5).drop(['sex'], axis=1)\n",
    "    age_deaths['Variable'] = 'Age group'\n",
    "    age_deaths['Rank'] = age_deaths.reset_index().index + 1\n",
    "    age_deaths.columns = ['Value', 'Top 5 Death Causes', 'Variable', 'Rank']\n",
    "    output = pd.concat([output, age_deaths])\n",
    "    \n",
    "output = output.set_index(['Variable', 'Value', 'Top 5 Death Causes'])\n",
    "output.to_csv('exercise_2_output.csv')"
   ]
  },
  {
   "cell_type": "code",
   "execution_count": null,
   "metadata": {},
   "outputs": [],
   "source": []
  }
 ],
 "metadata": {
  "kernelspec": {
   "display_name": "Python 3",
   "language": "python",
   "name": "python3"
  },
  "language_info": {
   "codemirror_mode": {
    "name": "ipython",
    "version": 3
   },
   "file_extension": ".py",
   "mimetype": "text/x-python",
   "name": "python",
   "nbconvert_exporter": "python",
   "pygments_lexer": "ipython3",
   "version": "3.6.5"
  }
 },
 "nbformat": 4,
 "nbformat_minor": 2
}
